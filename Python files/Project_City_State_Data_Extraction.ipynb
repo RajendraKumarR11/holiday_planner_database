{
 "cells": [
  {
   "cell_type": "code",
   "execution_count": 2,
   "metadata": {},
   "outputs": [
    {
     "data": {
      "text/plain": [
       "'\"\\nCONCLUSIONS:\\n\\nThis code uses the list of all cities/states  and  tries to create two separate files with city and state information\\nsearately.\\n\\nCONTRIBUTIONS:\\n\\nRAJENDRA KUMAR RAJKUMAR - 75% \\nMONISH  HIRISAVE RAGHU - 25%\\n\\nCITATIONS:\\n\\n1. https://www.geeksforgeeks.org\\n2. https://github.com/nikbearbrown/INFO_6210\\n\\nThe code with regard to extraction of information from twitter was used from the above mentioned resources\\n\\nOriginal writtten code - 60%\\nCode referenced from external sources(but modified suiting needs) - 40%\\n\\nLICENSE:\\n\\nCopyright <2019> <RAJENDRA KUMAR RAJKUMAR, MONISH  HIRISAVE RAGHU>\\n\\nPermission is hereby granted, free of charge, to any person obtaining a copy of this software and associated documentation files (the \"Software\"), to deal in the Software without restriction, including without limitation the rights to use, copy, modify, merge, publish, distribute, sublicense, and/or sell copies of the Software, and to permit persons to whom the Software is furnished to do so, subject to the following conditions:\\n\\nThe above copyright notice and this permission notice shall be included in all copies or substantial portions of the Software.\\n\\nTHE SOFTWARE IS PROVIDED \"AS IS\", WITHOUT WARRANTY OF ANY KIND, EXPRESS OR IMPLIED, INCLUDING BUT NOT LIMITED TO THE WARRANTIES OF MERCHANTABILITY, FITNESS FOR A PARTICULAR PURPOSE AND NONINFRINGEMENT. IN NO EVENT SHALL THE AUTHORS OR COPYRIGHT HOLDERS BE LIABLE FOR ANY CLAIM, DAMAGES OR OTHER LIABILITY, WHETHER IN AN ACTION OF CONTRACT, TORT OR OTHERWISE, ARISING FROM, OUT OF OR IN CONNECTION WITH THE SOFTWARE OR THE USE OR OTHER DEALINGS IN THE SOFTWARE.\\n\\n\\n'"
      ]
     },
     "execution_count": 2,
     "metadata": {},
     "output_type": "execute_result"
    }
   ],
   "source": [
    "# Preparing the All Cities and All States list from kaggle dataset\n",
    "# This class containes the code for\n",
    "#    1. Reading the city/state data from external csv files\n",
    "#    2. Cleaning of the data read from exteral source\n",
    "#    3. Exporting the cleaned data into tow separate (State and City) files\n",
    "#  Detailed description availble through inline comments.\n",
    "\n",
    "\n",
    "import pandas as pd\n",
    "import numpy as np\n",
    "import matplotlib as plt\n",
    "import json\n",
    "import re\n",
    "from re import sub\n",
    "from pandas.io.json import json_normalize\n",
    "pd.options.mode.chained_assignment = None\n",
    "\n",
    "\n",
    "# City/State data from csv file 'usa_cities.csv' and being stored under dataframe 'city_state_df'\n",
    "city_state_df = pd.read_csv('usa_cities.csv')\n",
    "\n",
    "\n",
    "# Creating 'City_ID' and 'State_ID' columns from 'city' and 'province' after string operations\n",
    "city_state_df['City_ID'] = city_state_df['city'].str.lower()\n",
    "city_state_df['City_ID'] = city_state_df['City_ID'].str.replace(' ', '')\n",
    "city_state_df['State_ID'] = city_state_df['province'].str.lower()\n",
    "city_state_df['State_ID'] = city_state_df['State_ID'].str.replace(' ', '')\n",
    "\n",
    "\n",
    "# Creating two separate dataframes 'city_df' and 'state_df'\n",
    "city_df = city_state_df[['City_ID','city', 'State_ID']]\n",
    "state_df = city_state_df[['State_ID','province']]\n",
    "\n",
    "\n",
    "# Drpping duplicates from 'state_df'\n",
    "state_df.drop_duplicates(subset=['State_ID'], keep='first', inplace= True)\n",
    "\n",
    "\n",
    "# Renaming columns in city_df and state_df\n",
    "city_df = city_df.rename(columns={'city': 'City_Name'})\n",
    "state_df = state_df.rename(columns={'province': 'State_Name'})\n",
    "\n",
    "\n",
    "# Exporting dataframes to respective csv files\n",
    "city_df.to_csv(\"Project_All_Cities.csv\", index=False)\n",
    "state_df.to_csv(\"Project_All_States.csv\", index=False)\n",
    "\n",
    "\n",
    "\n",
    "\"\"\"\"\n",
    "CONCLUSIONS:\n",
    "\n",
    "This code uses the list of all cities/states  and  tries to create two separate files with city and state information\n",
    "searately.\n",
    "\n",
    "CONTRIBUTIONS:\n",
    "\n",
    "RAJENDRA KUMAR RAJKUMAR - 75% \n",
    "MONISH  HIRISAVE RAGHU - 25%\n",
    "\n",
    "CITATIONS:\n",
    "\n",
    "1. https://www.geeksforgeeks.org\n",
    "2. https://github.com/nikbearbrown/INFO_6210\n",
    "\n",
    "The code with regard to extraction of information from twitter was used from the above mentioned resources\n",
    "\n",
    "Original writtten code - 60%\n",
    "Code referenced from external sources(but modified suiting needs) - 40%\n",
    "\n",
    "LICENSE:\n",
    "\n",
    "Copyright <2019> <RAJENDRA KUMAR RAJKUMAR, MONISH  HIRISAVE RAGHU>\n",
    "\n",
    "Permission is hereby granted, free of charge, to any person obtaining a copy of this software and associated documentation files (the \"Software\"), to deal in the Software without restriction, including without limitation the rights to use, copy, modify, merge, publish, distribute, sublicense, and/or sell copies of the Software, and to permit persons to whom the Software is furnished to do so, subject to the following conditions:\n",
    "\n",
    "The above copyright notice and this permission notice shall be included in all copies or substantial portions of the Software.\n",
    "\n",
    "THE SOFTWARE IS PROVIDED \"AS IS\", WITHOUT WARRANTY OF ANY KIND, EXPRESS OR IMPLIED, INCLUDING BUT NOT LIMITED TO THE WARRANTIES OF MERCHANTABILITY, FITNESS FOR A PARTICULAR PURPOSE AND NONINFRINGEMENT. IN NO EVENT SHALL THE AUTHORS OR COPYRIGHT HOLDERS BE LIABLE FOR ANY CLAIM, DAMAGES OR OTHER LIABILITY, WHETHER IN AN ACTION OF CONTRACT, TORT OR OTHERWISE, ARISING FROM, OUT OF OR IN CONNECTION WITH THE SOFTWARE OR THE USE OR OTHER DEALINGS IN THE SOFTWARE.\n",
    "\n",
    "\n",
    "\"\"\""
   ]
  },
  {
   "cell_type": "code",
   "execution_count": null,
   "metadata": {},
   "outputs": [],
   "source": []
  }
 ],
 "metadata": {
  "kernelspec": {
   "display_name": "Python 3",
   "language": "python",
   "name": "python3"
  },
  "language_info": {
   "codemirror_mode": {
    "name": "ipython",
    "version": 3
   },
   "file_extension": ".py",
   "mimetype": "text/x-python",
   "name": "python",
   "nbconvert_exporter": "python",
   "pygments_lexer": "ipython3",
   "version": "3.7.1"
  }
 },
 "nbformat": 4,
 "nbformat_minor": 2
}
