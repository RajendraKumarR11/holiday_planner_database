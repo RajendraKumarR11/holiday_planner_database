{
 "cells": [
  {
   "cell_type": "code",
   "execution_count": 12,
   "metadata": {},
   "outputs": [
    {
     "data": {
      "text/plain": [
       "'\"\\nCONCLUSIONS:\\n\\nThis code uses the list of tweets, reddit posts, instagram posts and tries to extract the words which qualify to be the domain tags\\n\\nCONTRIBUTIONS:\\n\\nRAJENDRA KUMAR RAJKUMAR - 75% \\nMONISH  HIRISAVE RAGHU - 25%\\n\\nCITATIONS:\\n\\n1. https://www.geeksforgeeks.org\\n2. https://github.com/nikbearbrown/INFO_6210\\n3. Reddit developer docs\\n\\nThe code with regard to extraction of information from reddit was used from the above mentioned resources\\n\\nOriginal writtten code - 90%\\nCode referenced from external sources(but modified suiting needs) - 10%\\n\\nLICENSE:\\n\\nCopyright <2019> <RAJENDRA KUMAR RAJKUMAR, MONISH  HIRISAVE RAGHU>\\n\\nPermission is hereby granted, free of charge, to any person obtaining a copy of this software and associated documentation files (the \"Software\"), to deal in the Software without restriction, including without limitation the rights to use, copy, modify, merge, publish, distribute, sublicense, and/or sell copies of the Software, and to permit persons to whom the Software is furnished to do so, subject to the following conditions:\\n\\nThe above copyright notice and this permission notice shall be included in all copies or substantial portions of the Software.\\n\\nTHE SOFTWARE IS PROVIDED \"AS IS\", WITHOUT WARRANTY OF ANY KIND, EXPRESS OR IMPLIED, INCLUDING BUT NOT LIMITED TO THE WARRANTIES OF MERCHANTABILITY, FITNESS FOR A PARTICULAR PURPOSE AND NONINFRINGEMENT. IN NO EVENT SHALL THE AUTHORS OR COPYRIGHT HOLDERS BE LIABLE FOR ANY CLAIM, DAMAGES OR OTHER LIABILITY, WHETHER IN AN ACTION OF CONTRACT, TORT OR OTHERWISE, ARISING FROM, OUT OF OR IN CONNECTION WITH THE SOFTWARE OR THE USE OR OTHER DEALINGS IN THE SOFTWARE.\\n\\n\\n'"
      ]
     },
     "execution_count": 12,
     "metadata": {},
     "output_type": "execute_result"
    }
   ],
   "source": [
    "# This class containes the code for\n",
    "#    1. Reading the tourist attraction data from external csv files\n",
    "#    2. Cleaning of the data read from exteral source\n",
    "#    3. Exporting the cleaned data into a csv file\n",
    "#  Detailed description availble through inline comments.\n",
    "\n",
    "\n",
    "\n",
    "import pandas as pd\n",
    "import numpy as np\n",
    "import matplotlib as plt\n",
    "import json\n",
    "import re\n",
    "from re import sub\n",
    "from pandas.io.json import json_normalize\n",
    "pd.options.mode.chained_assignment = None \n",
    "\n",
    "\n",
    "# Tourst attarction data read from csv file 'Tourist Attractions updated.' and being stored under dataframe 'tourist_attraction_df'\n",
    "tourist_attraction_df= pd.read_excel('Tourist Attractions updated.xlsx')\n",
    "del tourist_attraction_df['City']\n",
    "\n",
    "\n",
    "# New column 'Attraction_ID' created with input from 'Attraction_Name' and string converted to lower case and \n",
    "#space/special characters\n",
    "tourist_attraction_df['Attraction_ID'] = tourist_attraction_df['Attraction name'].str.lower()\n",
    "tourist_attraction_df['Attraction_ID'] = tourist_attraction_df['Attraction_ID'].str.replace(\",\",\"\")\n",
    "tourist_attraction_df['Attraction_ID'] = tourist_attraction_df['Attraction_ID'].str.replace(\"'\",\"\")\n",
    "tourist_attraction_df['Attraction_ID'] = tourist_attraction_df['Attraction_ID'].str.replace(\" \",\"\")\n",
    "\n",
    "\n",
    "# Renaming of certain column names\n",
    "tourist_attraction_df = tourist_attraction_df.rename(columns={'Attraction name': 'Attraction_Name', 'Attraction Description': 'Attraction_Description',\n",
    "                                                                   'Attraction Type': 'Attraction_Type','Entry Type': 'Entry_Type',\n",
    "                                                             'Time to spend':'Time_To_Spend', 'city_id' : 'City_ID'})\n",
    "\n",
    "\n",
    "tourist_attraction_df['Attraction_Description'] = tourist_attraction_df['Attraction_Description'].str.replace('\"','')\n",
    "tourist_attraction_df['Attraction_Description'] = tourist_attraction_df['Attraction_Description'].str.replace(\"'\",\"\")\n",
    "tourist_attraction_df['Attraction_Description'] = tourist_attraction_df['Attraction_Description'].str.replace(\"@\",\"\")\n",
    "tourist_attraction_df['Attraction_Description'] = tourist_attraction_df['Attraction_Description'].str.replace(\"#\",\"\")\n",
    "tourist_attraction_df['Attraction_Description'] = tourist_attraction_df['Attraction_Description'].str.replace(\",\",\"\")\n",
    "tourist_attraction_df['Attraction_Description'] = tourist_attraction_df['Attraction_Description'].str.replace(\"[\",\"\")\n",
    "\n",
    "\n",
    "# Exporting the dataframe to a csv\n",
    "tourist_attraction_df.to_csv(\"Project_Tourist_Attraction_Data.csv\", index=False)\n",
    "\n",
    "\n",
    "\"\"\"\"\n",
    "CONCLUSIONS:\n",
    "\n",
    "This code uses the list of tweets, reddit posts, instagram posts and tries to extract the words which qualify to be the domain tags\n",
    "\n",
    "CONTRIBUTIONS:\n",
    "\n",
    "RAJENDRA KUMAR RAJKUMAR - 75% \n",
    "MONISH  HIRISAVE RAGHU - 25%\n",
    "\n",
    "CITATIONS:\n",
    "\n",
    "1. https://www.geeksforgeeks.org\n",
    "2. https://github.com/nikbearbrown/INFO_6210\n",
    "3. Reddit developer docs\n",
    "\n",
    "The code with regard to extraction of information from reddit was used from the above mentioned resources\n",
    "\n",
    "Original writtten code - 90%\n",
    "Code referenced from external sources(but modified suiting needs) - 10%\n",
    "\n",
    "LICENSE:\n",
    "\n",
    "Copyright <2019> <RAJENDRA KUMAR RAJKUMAR, MONISH  HIRISAVE RAGHU>\n",
    "\n",
    "Permission is hereby granted, free of charge, to any person obtaining a copy of this software and associated documentation files (the \"Software\"), to deal in the Software without restriction, including without limitation the rights to use, copy, modify, merge, publish, distribute, sublicense, and/or sell copies of the Software, and to permit persons to whom the Software is furnished to do so, subject to the following conditions:\n",
    "\n",
    "The above copyright notice and this permission notice shall be included in all copies or substantial portions of the Software.\n",
    "\n",
    "THE SOFTWARE IS PROVIDED \"AS IS\", WITHOUT WARRANTY OF ANY KIND, EXPRESS OR IMPLIED, INCLUDING BUT NOT LIMITED TO THE WARRANTIES OF MERCHANTABILITY, FITNESS FOR A PARTICULAR PURPOSE AND NONINFRINGEMENT. IN NO EVENT SHALL THE AUTHORS OR COPYRIGHT HOLDERS BE LIABLE FOR ANY CLAIM, DAMAGES OR OTHER LIABILITY, WHETHER IN AN ACTION OF CONTRACT, TORT OR OTHERWISE, ARISING FROM, OUT OF OR IN CONNECTION WITH THE SOFTWARE OR THE USE OR OTHER DEALINGS IN THE SOFTWARE.\n",
    "\n",
    "\n",
    "\"\"\""
   ]
  },
  {
   "cell_type": "code",
   "execution_count": null,
   "metadata": {},
   "outputs": [],
   "source": []
  }
 ],
 "metadata": {
  "kernelspec": {
   "display_name": "Python 3",
   "language": "python",
   "name": "python3"
  },
  "language_info": {
   "codemirror_mode": {
    "name": "ipython",
    "version": 3
   },
   "file_extension": ".py",
   "mimetype": "text/x-python",
   "name": "python",
   "nbconvert_exporter": "python",
   "pygments_lexer": "ipython3",
   "version": "3.7.1"
  }
 },
 "nbformat": 4,
 "nbformat_minor": 2
}
